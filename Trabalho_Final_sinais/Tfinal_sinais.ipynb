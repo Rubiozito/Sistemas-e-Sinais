{
 "cells": [
  {
   "attachments": {},
   "cell_type": "markdown",
   "metadata": {},
   "source": [
    "> ## Trabalho final ECM307\n",
    "> ## Rafael Rubio 20.00611-0"
   ]
  },
  {
   "cell_type": "code",
   "execution_count": null,
   "metadata": {},
   "outputs": [],
   "source": [
    "import math \n",
    "import control\n",
    "import matplotlib.pyplot as plt\n",
    "import numpy as np\n",
    "import scipy.io\n",
    "from scipy.optimize import curve_fit\n",
    "from scipy.signal import find_peaks\n",
    "from control import TransferFunction\n",
    "import scipy.io.wavfile as wav\n",
    "import sounddevice as sd\n",
    "import IPython.display as ipd\n",
    "\n",
    "REPETIÇÕES =15\n",
    "\n",
    "def plotar_grafico(dado_x, dado_y, titulo, labelg=\"None\", type=\"\", label_x='Tempo em segundos', label_y='Amplitude'):\n",
    "    plt.figure()\n",
    "    plt.plot(dado_x, dado_y, type, label=labelg)\n",
    "    plt.title(titulo)\n",
    "    plt.legend()\n",
    "    plt.grid(True, which='both')\n",
    "    plt.axhline(y=0, color='k')\n",
    "    plt.axvline(x=0, color='k')\n",
    "    plt.xlabel(label_x)\n",
    "    plt.ylabel(label_y)\n",
    "    return plt\n",
    "\n"
   ]
  }
 ],
 "metadata": {
  "language_info": {
   "name": "python"
  },
  "orig_nbformat": 4
 },
 "nbformat": 4,
 "nbformat_minor": 2
}
