{
 "cells": [
  {
   "attachments": {},
   "cell_type": "markdown",
   "metadata": {},
   "source": [
    "> ## Trabalho final ECM307\n",
    "> ## Rafael Rubio 20.00611-0"
   ]
  },
  {
   "cell_type": "code",
   "execution_count": 1,
   "metadata": {},
   "outputs": [],
   "source": [
    "import math \n",
    "import control\n",
    "import matplotlib.pyplot as plt\n",
    "import numpy as np\n",
    "import scipy.io\n",
    "from scipy.optimize import curve_fit\n",
    "from scipy.signal import find_peaks\n",
    "from control import TransferFunction\n",
    "import scipy.io.wavfile as wav\n",
    "import sounddevice as sd\n",
    "import IPython.display as ipd\n",
    "\n",
    "REPETIÇÕES =15\n",
    "\n"
   ]
  },
  {
   "attachments": {},
   "cell_type": "markdown",
   "metadata": {},
   "source": [
    "# Requerimentos do trabalho:\n",
    "1. Indicar as formantes encontradas para cada vogal.\n",
    "2. Indicar a frequência fundamental de cada vogal.\n",
    "3. Encontrar a função de Laplace para um trecho de uma determinada vogal    \n",
    "4. Sintetizar a vogal no mesmo tempo da vogal original\n",
    "5. Montar a segquência sintetizada A U A."
   ]
  },
  {
   "cell_type": "code",
   "execution_count": null,
   "metadata": {},
   "outputs": [],
   "source": [
    "\n",
    "\n",
    "def plotar_grafico(dado_x, dado_y, titulo, labelg=\"None\", type=\"\", label_x='Tempo em segundos', label_y='Amplitude'):\n",
    "    plt.figure()\n",
    "    plt.plot(dado_x, dado_y, type, label=labelg)\n",
    "    plt.title(titulo)\n",
    "    plt.legend()\n",
    "    plt.grid(True, which='both')\n",
    "    plt.axhline(y=0, color='k')\n",
    "    plt.axvline(x=0, color='k')\n",
    "    plt.xlabel(label_x)\n",
    "    plt.ylabel(label_y)\n",
    "    return plt\n",
    "\n",
    "def calcular_laplace(b, c, amp):\n",
    "    return TransferFunction([amp], [b, c])\n",
    "\n",
    "\n"
   ]
  },
  {
   "cell_type": "code",
   "execution_count": null,
   "metadata": {},
   "outputs": [],
   "source": [
    "#Arquvio de audio \"Voz.mat\" baixado de https://github.com/vparro/sinais/blob/master/6%20-%20An%C3%A1lise%20de%20voz/Voz.mat\n",
    "data = scipy.io.loadmat('Voz.mat')\n",
    "\n",
    "t = data['t']\n",
    "t = np.squeeze(np.asarray(t))\n",
    "Vp = data['Vp']\n",
    "Vp = np.squeeze(np.asarray(Vp))\n",
    "\n"
   ]
  },
  {
   "attachments": {},
   "cell_type": "markdown",
   "metadata": {},
   "source": [
    "# 3. Encontrar a função de Laplace para um trecho de uma determinada vogal "
   ]
  },
  {
   "cell_type": "code",
   "execution_count": null,
   "metadata": {},
   "outputs": [],
   "source": []
  }
 ],
 "metadata": {
  "kernelspec": {
   "display_name": "Python 3",
   "language": "python",
   "name": "python3"
  },
  "language_info": {
   "codemirror_mode": {
    "name": "ipython",
    "version": 3
   },
   "file_extension": ".py",
   "mimetype": "text/x-python",
   "name": "python",
   "nbconvert_exporter": "python",
   "pygments_lexer": "ipython3",
   "version": "3.10.4"
  },
  "orig_nbformat": 4
 },
 "nbformat": 4,
 "nbformat_minor": 2
}
